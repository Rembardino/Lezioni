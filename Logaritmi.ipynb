{
 "cells": [
  {
   "cell_type": "code",
   "execution_count": 7,
   "metadata": {},
   "outputs": [
    {
     "data": {
      "text/html": [
       "\n",
       "<style>\n",
       "    div#notebook-container    { width: 100%; }\n",
       "    div#menubar-container     { width: 100%; }\n",
       "    div#maintoolbar-container { width: 100%; }\n",
       "</style>\n"
      ],
      "text/plain": [
       "<IPython.core.display.HTML object>"
      ]
     },
     "metadata": {},
     "output_type": "display_data"
    }
   ],
   "source": [
    "#parametri per grafici ed altro non modificare####\n",
    "\n",
    "import matplotlib as mpl, matplotlib.pyplot as plt\n",
    "import matplotlib.pyplot as plt\n",
    "import numpy as np\n",
    "\n",
    "x=np.arange(-5,5,0.005) #!non modificare!#\n",
    "\n",
    "from IPython.display import display, HTML\n",
    "display(HTML(data=\"\"\"\n",
    "<style>\n",
    "    div#notebook-container    { width: 100%; }\n",
    "    div#menubar-container     { width: 100%; }\n",
    "    div#maintoolbar-container { width: 100%; }\n",
    "</style>\n",
    "\"\"\"))\n",
    "\n",
    "plt.rcParams.update({'font.size':14,'legend.frameon':True,'figure.figsize':[12,8],'xtick.major.size':7,'ytick.major.size':7,'legend.labelspacing':1})"
   ]
  },
  {
   "cell_type": "markdown",
   "metadata": {},
   "source": [
    "# Logaritmi"
   ]
  },
  {
   "cell_type": "markdown",
   "metadata": {},
   "source": [
    "<font size=\"4\"> Il logaritmo è la funzione inversa dell'esponenziale. <br> <br>\n",
    "In maniera complicata: il logaritmo di un numero $x$ è l'esponente a cui un altro numero fisso(la base del logaritmo) deve essere elevato per ottenere c.... Proviamo a vederlo in formule:\n",
    "\n",
    "<font size=\"5\">$log_a(x)=c$ ------> $x=a^c$ </font>\n",
    "    <br><br>\n",
    "Quindi prendo la base del logaritmo e la elevo al secondo membre dell'uguaglianza e ottengo il valore per $x$.\n",
    "<br><br>\n",
    "    \n",
    "<font size=\"6\">Esempio</font>:\n",
    "\n",
    "<font size=\"5\">$log_5(x)=3$ ------> $x=5^3=125$ </font> <br>\n",
    "<font size=\"5\">$log_3(x)=4$ ------> $x=3^4=81$ </font>\n",
    "    \n",
    "<font size=\"4\">Solitamente (controllate!) se la base del logaritmo non è scritta direttamente, si sottointende che la base è 10\n",
    "\n",
    "<font size=\"5\">$log_{10}(x)=log(x)$\n",
    "    <br><br>\n",
    "<font size=\"4\">Esiste anche una base \"speciale\": il numero di Nepero $e$. In questo caso anzichè scrivere $log_{e}(x)$ si scrive $ln(x)$ per convenzione. <br>\n",
    "\n",
    "Il numero di Nepero è uguale a $e= 2,718281828459....$ ed è un numero importantissimo. Nepero è lo scopritore dei logaritmmi.\n"
   ]
  },
  {
   "cell_type": "markdown",
   "metadata": {},
   "source": [
    "#  Proprietá importanti dei logaritmi"
   ]
  },
  {
   "cell_type": "markdown",
   "metadata": {},
   "source": [
    "* <font size=\"5\">Il logaritmo è definito <b>solamente</b> per $x>0$!!!<br> <br>\n",
    "* Regola del prodotto: <font size=\"5\">$log_{b}(x*y)=log_{b}(x)+log_{b}(y)$\n",
    "    <br><br>\n",
    "* Regola della divisione <font size=\"5\">$log_{b}(\\frac{x}{y})=log_{b}(x)-log_{b}(y)$ <br> <br>\n",
    "* Regola della potenza <font size=\"5\">$log_{b}(x^q)=q*log_{b}(x)$ <br> <br>\n",
    "* Regola della radice <font size=\"5\">$log_{b}(\\sqrt[p]x)=\\frac{log_{b}(x)}{p}$\n",
    "    <br><br>\n",
    "    a:\n",
    "* Cambio di base ${\\displaystyle \\log _{b}x={\\frac {\\log _{k}x}{\\log _{k}b}}.\\,}{\\displaystyle \\log _{b}x={\\frac {\\log _{k}x}{\\log _{k}b}}.\\,}$"
   ]
  },
  {
   "cell_type": "code",
   "execution_count": null,
   "metadata": {},
   "outputs": [],
   "source": []
  }
 ],
 "metadata": {
  "kernelspec": {
   "display_name": "Python 3",
   "language": "python",
   "name": "python3"
  },
  "language_info": {
   "codemirror_mode": {
    "name": "ipython",
    "version": 3
   },
   "file_extension": ".py",
   "mimetype": "text/x-python",
   "name": "python",
   "nbconvert_exporter": "python",
   "pygments_lexer": "ipython3",
   "version": "3.8.3"
  }
 },
 "nbformat": 4,
 "nbformat_minor": 4
}
