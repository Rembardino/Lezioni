{
 "cells": [
  {
   "cell_type": "code",
   "execution_count": 2,
   "metadata": {},
   "outputs": [
    {
     "data": {
      "text/html": [
       "\n",
       "<style>\n",
       "    div#notebook-container    { width: 100%; }\n",
       "    div#menubar-container     { width: 100%; }\n",
       "    div#maintoolbar-container { width: 100%; }\n",
       "</style>\n"
      ],
      "text/plain": [
       "<IPython.core.display.HTML object>"
      ]
     },
     "metadata": {},
     "output_type": "display_data"
    }
   ],
   "source": [
    "#parametri per grafici ed altro non modificare####\n",
    "\n",
    "import matplotlib as mpl, matplotlib.pyplot as plt\n",
    "import matplotlib.pyplot as plt\n",
    "import numpy as np\n",
    "\n",
    "x=np.arange(-5,5,0.005) #!non modificare!#\n",
    "\n",
    "from IPython.display import display, HTML\n",
    "display(HTML(data=\"\"\"\n",
    "<style>\n",
    "    div#notebook-container    { width: 100%; }\n",
    "    div#menubar-container     { width: 100%; }\n",
    "    div#maintoolbar-container { width: 100%; }\n",
    "</style>\n",
    "\"\"\"))\n",
    "\n",
    "plt.rcParams.update({'font.size':14,'legend.frameon':True,'figure.figsize':[10,8],'xtick.major.size':6,'ytick.major.size':6,'legend.labelspacing':1})"
   ]
  },
  {
   "cell_type": "markdown",
   "metadata": {},
   "source": [
    "<font size=\"8\"> <b> I 3 principi della dinamica</b>"
   ]
  },
  {
   "cell_type": "markdown",
   "metadata": {},
   "source": [
    "<font size=\"5\"> I 3 principi della dinamica vennero presentati nel 1687 da Newton. Questi principi vengono anche spesso chiamati le tre leggi di Newton. <br><br>\n",
    "* <b> Primo principio della dinamica:</b> _Se su di un corpo non sono applicate forze, oppure se la risultante delle forze applicate su di esso è nullo, allora il corpo resta\n",
    "    fermo se è in uno stato di quiete oppure se si muove, continuerà a muoversi di <font color='red'>moto rettilineo uniforme. </font>_  <br><br><br>\n",
    "* <b> Secondo principio della dinamica:</b> _Se viene applicata una forza a un ogetto, quest'ultimo subirà un' <font color='red'>accellerazione </font> nello stesso verso e direzione della forza applicata. Allo stesso modo, se la risultante delle forze applicate dal corpo è diversa da zero, allora il corpo subirà un' <font>accellerazione </font> nello stesso verso e direzione della risultante delle forze_ <br><br><br>\n",
    "* <b>Terzo principio della dinamica:</b> _Se un corpo $A$ applica una forza su un corpo $B$, allora il corpo $B$ applica una forza con la stessa <font color='red'>direzione</font>, <font color='red'>intensitá</font> ma <font color='red'>verso</font> opposto su di $A$._"
   ]
  },
  {
   "cell_type": "markdown",
   "metadata": {},
   "source": [
    "<font size=\"6\"><b>Grandezze vettoriali e grandezze scalari </b>"
   ]
  },
  {
   "cell_type": "code",
   "execution_count": null,
   "metadata": {},
   "outputs": [],
   "source": []
  }
 ],
 "metadata": {
  "kernelspec": {
   "display_name": "Python 3",
   "language": "python",
   "name": "python3"
  },
  "language_info": {
   "codemirror_mode": {
    "name": "ipython",
    "version": 3
   },
   "file_extension": ".py",
   "mimetype": "text/x-python",
   "name": "python",
   "nbconvert_exporter": "python",
   "pygments_lexer": "ipython3",
   "version": "3.8.3"
  }
 },
 "nbformat": 4,
 "nbformat_minor": 4
}
