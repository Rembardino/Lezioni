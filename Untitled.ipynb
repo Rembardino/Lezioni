{
 "cells": [
  {
   "cell_type": "markdown",
   "metadata": {},
   "source": [
    "# Equazioni di secondo grado"
   ]
  },
  {
   "cell_type": "markdown",
   "metadata": {},
   "source": [
    "Riprendiamo adesso la formula della parabola:\n",
    "\n",
    "<b><font size=\"4\">$y=ax^2+bx+c$</font></b>\n",
    "\n",
    "e poniamo $y=0$. Possiamo semplicemente cambiare l'ordine dell'ugualiazna senza problemi.\n",
    "\n",
    "Otteniamo allora la seguente eqazione:\n",
    "\n",
    "\n",
    "<b><font size=\"4\">$ax^2+bx+c=0$</font></b>\n",
    "\n",
    "Questa è la famosa equazione di secondo grado. Ma cosa vuol dire esattamente? \n",
    "\n",
    "Per capirlo possiamo utilizzare la parabola studiata precedentemente: \n",
    "\n",
    "<font size=\"5\">$y=x^2-4x+3$ </font>\n",
    "\n",
    "Rivediamo un attimo il grafico"
   ]
  },
  {
   "cell_type": "code",
   "execution_count": 4,
   "metadata": {},
   "outputs": [
    {
     "data": {
      "image/png": "[encoded data removed]",
      "text/plain": [
       "<Figure size 432x288 with 1 Axes>"
      ]
     },
     "metadata": {
      "needs_background": "light"
     },
     "output_type": "display_data"
    }
   ],
   "source": [
    "import matplotlib.pyplot as plt\n",
    "import numpy as np\n",
    "from matplotlib.ticker import (AutoMinorLocator, MultipleLocator)\n",
    "\n",
    "x=np.arange(-1,5,0.005) #!non modificare!#\n",
    "\n",
    "a=1\n",
    "b=-4\n",
    "c=3\n",
    "\n",
    "y=a*x**2+b*x+c #!non modificare!#\n",
    "\n",
    "plt.figure()\n",
    "plt.grid(linewidth=2)\n",
    "plt.plot(x,y)\n",
    "plt.xlim(-1,4)\n",
    "plt.ylim(-2,2)\n",
    "plt.xlabel(\"x\")\n",
    "plt.ylabel(\"y\")\n",
    "plt.axhline(y=0, color='k')\n",
    "plt.axvline(x=0, color='k')\n",
    "plt.show()"
   ]
  },
  {
   "cell_type": "markdown",
   "metadata": {},
   "source": [
    "<font size=\"4\">Ponendo $y=0$ otteniamo la seguente equazione di secondo grado:\n",
    "<br><br>\n",
    "<font size=\"5\">$x^2-4x+3=0$ </font>\n",
    "    <br><br>\n",
    "\n",
    "Per risolvere questa equazione dobbiamo trovare i due valore di $x$ che soddisfano questa ugualianza. Per farlo possiamo utilizzare la seguente formula:<br><br>\n",
    "\n",
    "<font size=\"5\">$x_1,x_2=\\Large\\frac{-b±\\sqrt{b^2-4ac}}{2a}$</font>\n",
    "    <br><br>\n",
    "Sostittuiamo i valori di $a,b$ e $c$ nell'equazione\n",
    "    <br><br>\n",
    "    \n",
    "<font size=\"5\">$x_1,x_2=\\Large\\frac{-(-4)±\\sqrt{(-4)^2-4*(1)*(3)}}{2*(1)}$---->$x_1,x_2=\\Large\\frac{4±\\sqrt{16-12}}{2}$---->$x_1,x_2=\\Large\\frac{4±2}{2}$---->$x_1=3$ e $x_2=1$ </font>"
   ]
  },
  {
   "cell_type": "markdown",
   "metadata": {},
   "source": [
    "<font size=\"4\">Se osserviamo di nuovo il grafico, notiamo che 3 e 1 sono proprio i punti dove la parabola interseca l'asse delle x ossia i valori per cui $y$ è zero!\n",
    "    \n",
    "Se vediamo attetamente la formula per risolvere l'equazione di secondo grado, notiamo subito (anzi subitissimo) che il termine sotto la radice non è altro che il determinante <br> <br>\n",
    "\n",
    "<font size=\"5\">$\\Delta=b^2-4ac$<font>\n",
    "    \n",
    "Il determinante può darci informazioni IMPORTANTISSIME sulle soluzioni di un'equazione di secondo grado: <br> <br>\n",
    "* se <font size=\"5\">$\\Delta >0 $<font> abbiamo due soluzioni reali e distinte <br> <br>\n",
    "* se <font size=\"5\">$\\Delta=0 $<font> abbiamo due soluzioni coincidenti<br> <br>\n",
    "* se <font size=\"5\">$\\Delta<0 $<font> non abbiamo soluzioni reali<br> <br>\n"
   ]
  },
  {
   "cell_type": "markdown",
   "metadata": {},
   "source": [
    "<font size=\"4\">Come ci aspettiamo che siano le parabole nei 3 diversi casi ?"
   ]
  },
  {
   "cell_type": "code",
   "execution_count": 10,
   "metadata": {},
   "outputs": [
    {
     "data": {
      "image/png": "[encoded data removed]",
      "text/plain": [
       "<Figure size 432x288 with 1 Axes>"
      ]
     },
     "metadata": {
      "needs_background": "light"
     },
     "output_type": "display_data"
    }
   ],
   "source": [
    "import matplotlib.pyplot as plt\n",
    "import numpy as np\n",
    "\n",
    "x=np.arange(-5,5,0.005) #!non modificare!#\n",
    "\n",
    "##    Δ>0    ###\n",
    "\n",
    "a1=1\n",
    "b1=-4\n",
    "c1=3\n",
    "y1=a1*x**2+b1*x+c1 #!non modificare!#\n",
    "\n",
    "##      Δ=0       ###\n",
    "\n",
    "a2=4\n",
    "b2=1\n",
    "c2=1\n",
    "y2=a2*x**2+b2*x+c2 #!non modificare!#\n",
    "\n",
    "##      Δ<0       ###\n",
    "\n",
    "a3=2\n",
    "b3=5\n",
    "c3=6\n",
    "y3=a3*x**2+b3*x+c3 #!non modificare!#\n",
    "\n",
    "\n",
    "plt.figure()\n",
    "plt.grid()\n",
    "plt.plot(x,y1,color='red',label='Δ > 0')\n",
    "plt.plot(x,y2,color='green',label='Δ = 0')\n",
    "plt.plot(x,y3,color='orange',label='Δ < 0')\n",
    "plt.xlabel(\"x\")\n",
    "plt.ylabel(\"y\")\n",
    "plt.xlim(10,10)\n",
    "plt.ylim(-2,2)\n",
    "plt.axhline(y=0, color='k')\n",
    "plt.axvline(x=0, color='k')\n",
    "plt.legend()\n",
    "plt.show()"
   ]
  },
  {
   "cell_type": "code",
   "execution_count": null,
   "metadata": {},
   "outputs": [],
   "source": []
  }
 ],
 "metadata": {
  "kernelspec": {
   "display_name": "Python 3",
   "language": "python",
   "name": "python3"
  },
  "language_info": {
   "codemirror_mode": {
    "name": "ipython",
    "version": 3
   },
   "file_extension": ".py",
   "mimetype": "text/x-python",
   "name": "python",
   "nbconvert_exporter": "python",
   "pygments_lexer": "ipython3",
   "version": "3.8.3"
  }
 },
 "nbformat": 4,
 "nbformat_minor": 4
}
