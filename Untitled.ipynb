{
 "cells": [
  {
   "cell_type": "markdown",
   "metadata": {},
   "source": [
    "# Principi della Termodinamica"
   ]
  },
  {
   "cell_type": "markdown",
   "metadata": {},
   "source": [
    "<font size=\"4\"> Cerchiamo di capire subito cosa è la termodinamica. Notiamo innanzitutto che c'è la parola dinamica nella parola, quindi ci aspettiamo un movimento di qualcosa. L'altra parola è \"Termo\" che è subito associabile alla temperatura. Quindi possiamo dire che la Termodinamica studia il movimento della temperatura. E in effetti è proprio cosi. Ora resta da capire cosa sia la temperatura."
   ]
  },
  {
   "cell_type": "markdown",
   "metadata": {},
   "source": [
    "<font size=\"4\"> Ogni giorno tocchiamo oggetti con diverese temperature e ci accorgiamo subito della differenza. Ma cosa è che fa la differenza tra un ccorpo freddo e uno caldo? Quello che cambia eè la velocitá con cui si muovono gli atomi all'interno del corpo. Quindi possiamo pensare che un termometro o un termo-scacnner non sono nient'altro che autovelox per la velocitá degli atomi. Pensando alla temperatura in questo modo, ci risulterá molto più facile capire i prossimi concetti. <br><br>\n",
    "Per esempio possiamo capire del perchè nel sistema internazionale di misura la Temperatura si misura in Kelvin e che la temperatura minima è 0 gradi Kelvin (0 assoluto). Questo perchè la temperatura è la misura della velocitá degli atomi e la velocitá minima è 0! \n",
    "    \n",
    "Dopo questa breve introduzione, vediamo i principi della termodinamica. Come sempre, li enunciamo tutti quanti e poi li vediamo nel dettaglio uno per uno.\n"
   ]
  },
  {
   "cell_type": "markdown",
   "metadata": {},
   "source": [
    "<font size=\"5\"> <b> Principio zero </font><br>\n",
    "    <font size=\"4\"> _Il principio 0 ci dice che se il corpo A è in equilibrio Termico con il corpo B, e il corpo B è in equilibrio termico con il corpo C, allora il corpo A è in equilibrio termico con il corpo C._"
   ]
  },
  {
   "cell_type": "markdown",
   "metadata": {},
   "source": [
    "<font size=\"5\"> <b> Primo principio </font><br> <font size=\"4\"> _L'energia interna di un sistema termodinamico isolato è costante_"
   ]
  },
  {
   "cell_type": "markdown",
   "metadata": {},
   "source": [
    "<font size=\"5\"> <b> Secondo principio </font><br> <font size=\"4\">In un sistema isolato, L'entropia totale del sistema non può diminuire_"
   ]
  },
  {
   "cell_type": "markdown",
   "metadata": {},
   "source": [
    "<font size=\"5\"> <b> Terzo principio </font><br><font size=\"4\"> _L'entropia di un cristallo perfetto allo zero assoluto è esattamente eguale a 0_"
   ]
  },
  {
   "cell_type": "markdown",
   "metadata": {},
   "source": []
  },
  {
   "cell_type": "markdown",
   "metadata": {},
   "source": [
    "<font size=\"4\"> _L'entropia di un cristallo perfetto allo zero assoluto è esattamente eguale a 0_"
   ]
  },
  {
   "cell_type": "markdown",
   "metadata": {},
   "source": [
    "<font size=\"4\">In un sistema isolato, L'entropia totale del sistema non può diminuire_"
   ]
  },
  {
   "cell_type": "markdown",
   "metadata": {},
   "source": [
    "<font size=\"4\"> _L'energia interna di un sistema termodinamico isolato è costante_"
   ]
  },
  {
   "cell_type": "markdown",
   "metadata": {},
   "source": [
    "<font size=\"4\"> _Il principio 0 ci dice che se il corpo A è in equilibrio Termico con il corpo B, e il corpo B è in equilibrio termico con il corpo C, allora il corpo A è in equilibrio termico con il corpo C._"
   ]
  }
 ],
 "metadata": {
  "kernelspec": {
   "display_name": "Python 3",
   "language": "python",
   "name": "python3"
  },
  "language_info": {
   "codemirror_mode": {
    "name": "ipython",
    "version": 3
   },
   "file_extension": ".py",
   "mimetype": "text/x-python",
   "name": "python",
   "nbconvert_exporter": "python",
   "pygments_lexer": "ipython3",
   "version": "3.8.3"
  }
 },
 "nbformat": 4,
 "nbformat_minor": 4
}
